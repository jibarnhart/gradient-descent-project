{
 "cells": [
  {
   "cell_type": "code",
   "execution_count": 1,
   "id": "144f0d9b",
   "metadata": {},
   "outputs": [],
   "source": [
    "import pandas as pd\n",
    "import numpy as np\n",
    "import statsmodels.api as sm\n",
    "import sklearn.model_selection as ms\n",
    "import matplotlib.pyplot as plt\n",
    "from sklearn import metrics"
   ]
  },
  {
   "cell_type": "code",
   "execution_count": 2,
   "id": "d0a5b391",
   "metadata": {},
   "outputs": [
    {
     "data": {
      "text/html": [
       "<div>\n",
       "<style scoped>\n",
       "    .dataframe tbody tr th:only-of-type {\n",
       "        vertical-align: middle;\n",
       "    }\n",
       "\n",
       "    .dataframe tbody tr th {\n",
       "        vertical-align: top;\n",
       "    }\n",
       "\n",
       "    .dataframe thead th {\n",
       "        text-align: right;\n",
       "    }\n",
       "</style>\n",
       "<table border=\"1\" class=\"dataframe\">\n",
       "  <thead>\n",
       "    <tr style=\"text-align: right;\">\n",
       "      <th></th>\n",
       "      <th>mpg</th>\n",
       "      <th>cylinders</th>\n",
       "      <th>displacement</th>\n",
       "      <th>horsepower</th>\n",
       "      <th>weight</th>\n",
       "      <th>acceleration</th>\n",
       "      <th>year</th>\n",
       "      <th>origin</th>\n",
       "      <th>name</th>\n",
       "    </tr>\n",
       "  </thead>\n",
       "  <tbody>\n",
       "    <tr>\n",
       "      <th>0</th>\n",
       "      <td>18.0</td>\n",
       "      <td>8</td>\n",
       "      <td>307.0</td>\n",
       "      <td>130.0</td>\n",
       "      <td>3504</td>\n",
       "      <td>12.0</td>\n",
       "      <td>70</td>\n",
       "      <td>1</td>\n",
       "      <td>chevrolet chevelle malibu</td>\n",
       "    </tr>\n",
       "    <tr>\n",
       "      <th>1</th>\n",
       "      <td>15.0</td>\n",
       "      <td>8</td>\n",
       "      <td>350.0</td>\n",
       "      <td>165.0</td>\n",
       "      <td>3693</td>\n",
       "      <td>11.5</td>\n",
       "      <td>70</td>\n",
       "      <td>1</td>\n",
       "      <td>buick skylark 320</td>\n",
       "    </tr>\n",
       "    <tr>\n",
       "      <th>2</th>\n",
       "      <td>18.0</td>\n",
       "      <td>8</td>\n",
       "      <td>318.0</td>\n",
       "      <td>150.0</td>\n",
       "      <td>3436</td>\n",
       "      <td>11.0</td>\n",
       "      <td>70</td>\n",
       "      <td>1</td>\n",
       "      <td>plymouth satellite</td>\n",
       "    </tr>\n",
       "    <tr>\n",
       "      <th>3</th>\n",
       "      <td>16.0</td>\n",
       "      <td>8</td>\n",
       "      <td>304.0</td>\n",
       "      <td>150.0</td>\n",
       "      <td>3433</td>\n",
       "      <td>12.0</td>\n",
       "      <td>70</td>\n",
       "      <td>1</td>\n",
       "      <td>amc rebel sst</td>\n",
       "    </tr>\n",
       "    <tr>\n",
       "      <th>4</th>\n",
       "      <td>17.0</td>\n",
       "      <td>8</td>\n",
       "      <td>302.0</td>\n",
       "      <td>140.0</td>\n",
       "      <td>3449</td>\n",
       "      <td>10.5</td>\n",
       "      <td>70</td>\n",
       "      <td>1</td>\n",
       "      <td>ford torino</td>\n",
       "    </tr>\n",
       "  </tbody>\n",
       "</table>\n",
       "</div>"
      ],
      "text/plain": [
       "    mpg  cylinders  displacement  horsepower  weight  acceleration  year  \\\n",
       "0  18.0          8         307.0       130.0    3504          12.0    70   \n",
       "1  15.0          8         350.0       165.0    3693          11.5    70   \n",
       "2  18.0          8         318.0       150.0    3436          11.0    70   \n",
       "3  16.0          8         304.0       150.0    3433          12.0    70   \n",
       "4  17.0          8         302.0       140.0    3449          10.5    70   \n",
       "\n",
       "   origin                       name  \n",
       "0       1  chevrolet chevelle malibu  \n",
       "1       1          buick skylark 320  \n",
       "2       1         plymouth satellite  \n",
       "3       1              amc rebel sst  \n",
       "4       1                ford torino  "
      ]
     },
     "execution_count": 2,
     "metadata": {},
     "output_type": "execute_result"
    }
   ],
   "source": [
    "Auto = pd.read_csv(\"data/Auto.csv\",header=0, na_values='?').dropna()\n",
    "Auto.head()"
   ]
  },
  {
   "cell_type": "code",
   "execution_count": 3,
   "id": "a37370ae",
   "metadata": {},
   "outputs": [],
   "source": [
    "X_auto = np.array(Auto.drop(['mpg', 'name'], axis=1))\n",
    "Y_auto = np.array(Auto[['mpg']])"
   ]
  },
  {
   "cell_type": "code",
   "execution_count": 8,
   "id": "7a522cd1",
   "metadata": {},
   "outputs": [],
   "source": [
    "X_mean_auto = np.reshape((X_auto.mean(0)), (-1,7))\n",
    "X_range_auto = np.zeros((7,1))\n",
    "for i in range(7):\n",
    "    X_range_auto[i] = np.amax(X_auto[:,i]) - np.amin(X_auto[:,i])\n",
    "X_range_auto = np.transpose(X_range_auto)\n",
    "X_stand_auto = (X_auto - X_mean_auto) / X_range_auto\n",
    "n_auto = np.shape(X_stand_auto)[0]\n",
    "X_auto_d = np.c_[np.ones(n_auto), X_stand_auto]"
   ]
  },
  {
   "cell_type": "markdown",
   "id": "36599d68",
   "metadata": {},
   "source": [
    "For this project, we are using gradient descent and stochastic gradient descent to obtain estimates of our regression coefficients. Lets start by training our linear regression."
   ]
  },
  {
   "cell_type": "code",
   "execution_count": 9,
   "id": "263fd161",
   "metadata": {},
   "outputs": [
    {
     "name": "stdout",
     "output_type": "stream",
     "text": [
      "                            OLS Regression Results                            \n",
      "==============================================================================\n",
      "Dep. Variable:                      y   R-squared:                       0.821\n",
      "Model:                            OLS   Adj. R-squared:                  0.818\n",
      "Method:                 Least Squares   F-statistic:                     252.4\n",
      "Date:                Sat, 11 Jun 2022   Prob (F-statistic):          2.04e-139\n",
      "Time:                        15:48:56   Log-Likelihood:                -1023.5\n",
      "No. Observations:                 392   AIC:                             2063.\n",
      "Df Residuals:                     384   BIC:                             2095.\n",
      "Df Model:                           7                                         \n",
      "Covariance Type:            nonrobust                                         \n",
      "==============================================================================\n",
      "                 coef    std err          t      P>|t|      [0.025      0.975]\n",
      "------------------------------------------------------------------------------\n",
      "const         23.4459      0.168    139.498      0.000      23.115      23.776\n",
      "x1            -2.4669      1.616     -1.526      0.128      -5.645       0.711\n",
      "x2             7.6996      2.908      2.647      0.008       1.981      13.418\n",
      "x3            -3.1190      2.537     -1.230      0.220      -8.107       1.869\n",
      "x4           -22.8340      2.300     -9.929      0.000     -27.356     -18.312\n",
      "x5             1.3537      1.661      0.815      0.415      -1.911       4.619\n",
      "x6             9.0093      0.612     14.729      0.000       7.807      10.212\n",
      "x7             2.8523      0.556      5.127      0.000       1.759       3.946\n",
      "==============================================================================\n",
      "Omnibus:                       31.906   Durbin-Watson:                   1.309\n",
      "Prob(Omnibus):                  0.000   Jarque-Bera (JB):               53.100\n",
      "Skew:                           0.529   Prob(JB):                     2.95e-12\n",
      "Kurtosis:                       4.460   Cond. No.                         19.8\n",
      "==============================================================================\n",
      "\n",
      "Notes:\n",
      "[1] Standard Errors assume that the covariance matrix of the errors is correctly specified.\n"
     ]
    }
   ],
   "source": [
    "lm_auto = sm.OLS(Y_auto, X_auto_d)\n",
    "results = lm_auto.fit()\n",
    "print(results.summary())"
   ]
  },
  {
   "cell_type": "markdown",
   "id": "25c8abb4",
   "metadata": {},
   "source": [
    "0.818 is pretty high r-squared for any data. Looking at the sumamry, we can see that 5 of the coefficients are significant and 3 are not. The 3 that are not are Cylinders, Horsepower, and Acceleration. Lets start the gradient descent."
   ]
  },
  {
   "cell_type": "code",
   "execution_count": 11,
   "id": "5e06f93c",
   "metadata": {},
   "outputs": [],
   "source": [
    "theta = np.random.randn(8,1)\n",
    "\n",
    "def computeCost(X, y, theta):\n",
    "    inner = np.power(((X.dot(theta)) - y), 2)\n",
    "    return np.sum(inner) / (2 * len(X))\n",
    "\n",
    "cost = list()\n",
    "iteration = 0\n",
    "error = 1\n",
    "eta = 0.001\n",
    "while error > 0.0001:\n",
    "    gradients = 2/n_auto * X_auto_d.T.dot(X_auto_d.dot(theta) - Y_auto)\n",
    "    theta = theta - eta * gradients\n",
    "    cost.append(computeCost(X_auto_d, Y_auto, theta))\n",
    "    if iteration > 0:\n",
    "        error = cost[iteration-1] - cost[iteration]\n",
    "    iteration += 1"
   ]
  },
  {
   "cell_type": "code",
   "execution_count": 12,
   "id": "9fd13571",
   "metadata": {},
   "outputs": [
    {
     "name": "stdout",
     "output_type": "stream",
     "text": [
      "[[23.44591119]\n",
      " [-6.51031901]\n",
      " [-2.57682381]\n",
      " [-2.99452387]\n",
      " [-5.00728258]\n",
      " [ 0.66066396]\n",
      " [ 6.76975564]\n",
      " [ 3.9173164 ]]\n"
     ]
    },
    {
     "data": {
      "image/png": "[encoded data removed]",
      "text/plain": [
       "<Figure size 864x576 with 1 Axes>"
      ]
     },
     "metadata": {
      "needs_background": "light"
     },
     "output_type": "display_data"
    }
   ],
   "source": [
    "fig, ax = plt.subplots(figsize=(12,8))\n",
    "ax.plot(np.arange(iteration), cost, 'r')\n",
    "ax.set_xlabel('Iterations')\n",
    "ax.set_ylabel('Cost')\n",
    "ax.set_title('Error vs. Training Error')\n",
    "print(theta)"
   ]
  },
  {
   "cell_type": "markdown",
   "id": "f3cf7a96",
   "metadata": {},
   "source": [
    "After about 2500 iterations, our cost was reduced as much as it could be. We can also see that some of the regression coefficients are different that what is returned with OLS regression. This is because gradient descent should be used for predictive modeling, not inferential modeling. Theoretically, we could run this again with a different random sampling, and get different coefficients."
   ]
  },
  {
   "cell_type": "markdown",
   "id": "56c01480",
   "metadata": {},
   "source": [
    "Lets compare gradient descent to stochastic gradient descent."
   ]
  },
  {
   "cell_type": "code",
   "execution_count": 13,
   "id": "4d1bf3c0",
   "metadata": {},
   "outputs": [],
   "source": [
    "shuffle = pd.concat((pd.DataFrame(X_auto_d), pd.DataFrame(Y_auto)),1)\n",
    "shuffle = np.array(shuffle.sample(frac=1))\n",
    "shuffle_x = shuffle[:,0:8]\n",
    "shuffle_y = shuffle[:,8:9]"
   ]
  },
  {
   "cell_type": "markdown",
   "id": "561031cf",
   "metadata": {},
   "source": [
    "First we had to put our x and y variables back together so we could randomly shuffle them the same way, and then pull them back apart."
   ]
  },
  {
   "cell_type": "code",
   "execution_count": 14,
   "id": "e8af86d6",
   "metadata": {},
   "outputs": [],
   "source": [
    "cost_sgd = list()\n",
    "iteration_sgd = 0\n",
    "error_sgd = 1\n",
    "eta_sgd = 5\n",
    "theta_sgd = np.random.randn(8,1)\n",
    "for i in range(np.shape(shuffle_x)[0]):\n",
    "    gradients_sgd = np.reshape(1/n_auto * shuffle_x.T[:,i] * (shuffle_x[i,:].dot(theta_sgd) - shuffle_y[i,:]), (8,1))\n",
    "    theta_sgd = theta_sgd - eta_sgd * gradients_sgd\n",
    "    cost_sgd.append(computeCost(shuffle_x,shuffle_y,theta_sgd))\n",
    "    if iteration_sgd > 0:\n",
    "        error_sgd = cost_sgd[iteration_sgd-1] - cost_sgd[iteration_sgd]\n",
    "    iteration_sgd += 1"
   ]
  },
  {
   "cell_type": "code",
   "execution_count": 15,
   "id": "dd9e0c93",
   "metadata": {},
   "outputs": [
    {
     "name": "stdout",
     "output_type": "stream",
     "text": [
      "[[23.53564709]\n",
      " [-5.82814085]\n",
      " [-3.51684916]\n",
      " [-2.12473653]\n",
      " [-3.72490075]\n",
      " [ 3.35475923]\n",
      " [ 3.67099685]\n",
      " [ 2.04850713]]\n"
     ]
    },
    {
     "data": {
      "image/png": "[encoded data removed]",
      "text/plain": [
       "<Figure size 864x576 with 1 Axes>"
      ]
     },
     "metadata": {
      "needs_background": "light"
     },
     "output_type": "display_data"
    }
   ],
   "source": [
    "fig, ax = plt.subplots(figsize=(12,8))\n",
    "ax.plot(np.arange(iteration_sgd), cost_sgd, 'r')\n",
    "ax.set_xlabel('Iterations')\n",
    "ax.set_ylabel('Cost')\n",
    "ax.set_title('Error vs. Training Error')\n",
    "print(theta_sgd)"
   ]
  },
  {
   "cell_type": "markdown",
   "id": "20f2f200",
   "metadata": {},
   "source": [
    "This takes less than 1/5 of the time to reduce its cost to the lowest it will go. You can see it is not a smooth curve this time, this is due to the random factor present in stochastic gradient descent. It is faster because it does not look over the entire dataset, just 1 sample at a time, out of a random sample of the dataset. Now we can directly compare eour coeficcients."
   ]
  },
  {
   "cell_type": "code",
   "execution_count": 16,
   "id": "c5c968dd",
   "metadata": {},
   "outputs": [
    {
     "name": "stdout",
     "output_type": "stream",
     "text": [
      "[[23.44591119]\n",
      " [-6.51031901]\n",
      " [-2.57682381]\n",
      " [-2.99452387]\n",
      " [-5.00728258]\n",
      " [ 0.66066396]\n",
      " [ 6.76975564]\n",
      " [ 3.9173164 ]]\n",
      "[[23.53564709]\n",
      " [-5.82814085]\n",
      " [-3.51684916]\n",
      " [-2.12473653]\n",
      " [-3.72490075]\n",
      " [ 3.35475923]\n",
      " [ 3.67099685]\n",
      " [ 2.04850713]]\n"
     ]
    }
   ],
   "source": [
    "print(theta)\n",
    "print(theta_sgd)"
   ]
  },
  {
   "cell_type": "markdown",
   "id": "576b83ff",
   "metadata": {},
   "source": [
    "Some of the coefficients present are similar in both models and some differ. Gradient descent does not try to get the coefficients close to their true values, it just finds the most optimal coefficients for predictive analysis."
   ]
  }
 ],
 "metadata": {
  "kernelspec": {
   "display_name": "Python 3",
   "language": "python",
   "name": "python3"
  },
  "language_info": {
   "codemirror_mode": {
    "name": "ipython",
    "version": 3
   },
   "file_extension": ".py",
   "mimetype": "text/x-python",
   "name": "python",
   "nbconvert_exporter": "python",
   "pygments_lexer": "ipython3",
   "version": "3.8.8"
  }
 },
 "nbformat": 4,
 "nbformat_minor": 5
}
